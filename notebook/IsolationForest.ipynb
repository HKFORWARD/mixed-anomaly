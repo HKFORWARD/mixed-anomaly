{
 "cells": [
  {
   "cell_type": "code",
   "execution_count": 1,
   "metadata": {},
   "outputs": [
    {
     "data": {
      "text/plain": [
       "'D:\\\\DoingDataScience\\\\mixed-anomaly'"
      ]
     },
     "execution_count": 1,
     "metadata": {},
     "output_type": "execute_result"
    }
   ],
   "source": [
    "%load_ext autoreload\n",
    "%autoreload 2\n",
    "\n",
    "%matplotlib inline\n",
    "import matplotlib.pyplot as plt\n",
    "\n",
    "import os\n",
    "os.chdir(\"..\")\n",
    "\n",
    "import numpy as np\n",
    "from sklearn.metrics import roc_auc_score"
   ]
  },
  {
   "cell_type": "code",
   "execution_count": 2,
   "metadata": {},
   "outputs": [],
   "source": [
    "from anomaly.isolation.isolation_forest import IsolationForest\n",
    "from anomaly.datasets.kdd import load_train_test_data"
   ]
  },
  {
   "cell_type": "code",
   "execution_count": 3,
   "metadata": {},
   "outputs": [],
   "source": [
    "(features_train, target_train), (features_test, target_test) = load_train_test_data(small=True, train_normal_only=False)"
   ]
  },
  {
   "cell_type": "code",
   "execution_count": 36,
   "metadata": {},
   "outputs": [],
   "source": [
    "isolation_forest = IsolationForest(number_trees=200, sample_n=1024)"
   ]
  },
  {
   "cell_type": "code",
   "execution_count": 37,
   "metadata": {
    "scrolled": false
   },
   "outputs": [
    {
     "name": "stderr",
     "output_type": "stream",
     "text": [
      "100%|████████████████████████████████████████| 200/200 [10:52<00:00,  3.58s/it]\n"
     ]
    }
   ],
   "source": [
    "isolation_forest.fit(features_train)"
   ]
  },
  {
   "cell_type": "code",
   "execution_count": 39,
   "metadata": {},
   "outputs": [],
   "source": [
    "anomaly_scores = isolation_forest.calculate_anomaly_scores(data=features_test)\n",
    "anomaly_scores_normal_test = anomaly_scores[target_test == 1]\n",
    "anomaly_scores_anomaly_test = anomaly_scores[target_test == 0]"
   ]
  },
  {
   "cell_type": "code",
   "execution_count": 42,
   "metadata": {},
   "outputs": [
    {
     "data": {
      "text/plain": [
       "(array([ 23., 140.,   9.,   7.,   0.,   1.,   0.,   0.,   0.,   0.,   0.,\n",
       "          2.,   0.,   0.,   2.,   0.,   3.,   0.,   0.,   1.,   7.,   9.,\n",
       "         12.,  12.,   7.,   3.,   4.,   1.,   3.,   2.,   0.,   0.,   0.,\n",
       "          0.,   0.,   0.,   0.,   0.,   0.,   0.,   0.,   0.,   0.,   0.,\n",
       "          0.,   0.,   0.,   0.,   1.,   1.]),\n",
       " array([0.58714792, 0.58826735, 0.58938678, 0.59050621, 0.59162565,\n",
       "        0.59274508, 0.59386451, 0.59498394, 0.59610338, 0.59722281,\n",
       "        0.59834224, 0.59946167, 0.6005811 , 0.60170054, 0.60281997,\n",
       "        0.6039394 , 0.60505883, 0.60617827, 0.6072977 , 0.60841713,\n",
       "        0.60953656, 0.61065599, 0.61177543, 0.61289486, 0.61401429,\n",
       "        0.61513372, 0.61625316, 0.61737259, 0.61849202, 0.61961145,\n",
       "        0.62073088, 0.62185032, 0.62296975, 0.62408918, 0.62520861,\n",
       "        0.62632805, 0.62744748, 0.62856691, 0.62968634, 0.63080577,\n",
       "        0.63192521, 0.63304464, 0.63416407, 0.6352835 , 0.63640294,\n",
       "        0.63752237, 0.6386418 , 0.63976123, 0.64088067, 0.6420001 ,\n",
       "        0.64311953]),\n",
       " <a list of 50 Patch objects>)"
      ]
     },
     "execution_count": 42,
     "metadata": {},
     "output_type": "execute_result"
    },
    {
     "data": {
      "image/png": "[encoded data removed]",
      "text/plain": [
       "<Figure size 432x288 with 1 Axes>"
      ]
     },
     "metadata": {
      "needs_background": "light"
     },
     "output_type": "display_data"
    }
   ],
   "source": [
    "bins = np.histogram(a=anomaly_scores, bins=50)[1]\n",
    "plt.close()\n",
    "plt.hist(anomaly_scores_normal_test.sample(n=len(anomaly_scores_anomaly_test)), alpha=0.5, bins=bins)\n",
    "plt.hist(anomaly_scores_anomaly_test, alpha=0.5, bins=bins)"
   ]
  },
  {
   "cell_type": "code",
   "execution_count": 43,
   "metadata": {},
   "outputs": [
    {
     "data": {
      "text/plain": [
       "(0.5896535680493312, 0.595467140176504)"
      ]
     },
     "execution_count": 43,
     "metadata": {},
     "output_type": "execute_result"
    }
   ],
   "source": [
    "np.mean(anomaly_scores_normal_test), np.mean(anomaly_scores_anomaly_test)"
   ]
  },
  {
   "cell_type": "code",
   "execution_count": 44,
   "metadata": {},
   "outputs": [
    {
     "data": {
      "text/plain": [
       "0.6925461254612546"
      ]
     },
     "execution_count": 44,
     "metadata": {},
     "output_type": "execute_result"
    }
   ],
   "source": [
    "roc_auc_score(y_true=1-target_test, y_score=anomaly_scores)"
   ]
  },
  {
   "cell_type": "code",
   "execution_count": 35,
   "metadata": {},
   "outputs": [
    {
     "data": {
      "text/plain": [
       "-0.38190850097688767"
      ]
     },
     "execution_count": 35,
     "metadata": {},
     "output_type": "execute_result"
    }
   ],
   "source": [
    "def shannon_entropy_calculation(p):\n",
    "    entropy = 0\n",
    "    for probability in p:\n",
    "        entropy = entropy + probability * np.log(probability)\n",
    "    return - np.log(len(p)) - entropy\n",
    "\n",
    "shannon_entropy_calculation([0.1, 0.1, 0.1, 0.1, 0.6])# / entropy_calculation([0.2] * 5)"
   ]
  }
 ],
 "metadata": {
  "kernelspec": {
   "display_name": "Python [conda env:isolation] *",
   "language": "python",
   "name": "conda-env-isolation-py"
  },
  "language_info": {
   "codemirror_mode": {
    "name": "ipython",
    "version": 3
   },
   "file_extension": ".py",
   "mimetype": "text/x-python",
   "name": "python",
   "nbconvert_exporter": "python",
   "pygments_lexer": "ipython3",
   "version": "3.7.3"
  }
 },
 "nbformat": 4,
 "nbformat_minor": 2
}
